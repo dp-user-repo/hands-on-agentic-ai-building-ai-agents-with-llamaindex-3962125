{
 "cells": [
  {
   "cell_type": "markdown",
   "id": "d7bfea18",
   "metadata": {},
   "source": [
    "### Set up LLM and Embedding"
   ]
  },
  {
   "cell_type": "code",
   "execution_count": 1,
   "id": "d157a7ad-1968-4149-b713-c5e38a6458a4",
   "metadata": {},
   "outputs": [],
   "source": [
    "#Using AzureOpenAI as LLM. Other LLM options are available in LlamaIndex\n",
    "#from llama_index.llms.azure_openai import AzureOpenAI\n",
    "\n",
    "# Using OpenAI as LLM with LlamaIndex\n",
    "from llama_index.llms.openai import OpenAI\n",
    "\n",
    "from llama_index.embeddings.openai import OpenAIEmbedding\n",
    "#from llama_index.embeddings.azure_openai import AzureOpenAIEmbedding\n",
    "\n",
    "from llama_index.core import Settings\n",
    "from dotenv import load_dotenv\n",
    "load_dotenv()\n",
    "import os\n",
    "import nest_asyncio\n",
    "\n",
    "#Used by LlamaIndex\n",
    "nest_asyncio.apply()\n",
    "\n",
    "#API key for OpenAi or AzureOpenAI. Replace with your own key\n",
    "api_key = os.environ.get(\"OPENAI_API_KEY\")\n",
    "\n",
    "#Azure Endpoint URL. Replace with your own URL\n",
    "#azure_endpoint = \"https://agentic-ai-course-kumaran.openai.azure.com/\"\n",
    "\n",
    "#Note : Function calling support only available in GPT-4+ (maybe also in GPT-3.5 Turbo)\n",
    "# Create the LLM object for OpenAI\n",
    "llm = OpenAI(\n",
    "    model=\"gpt-4o\",  # or \"gpt-4-turbo\", \"gpt-3.5-turbo-16k\", etc.\n",
    "    api_key=api_key\n",
    ")\n",
    "\n",
    "#Create the LLM object for Azure OpenAI\n",
    "#llm=AzureOpenAI(\n",
    "#    model=\"gpt-4o\",\n",
    "#    deployment_name=\"gpt-4o\",\n",
    "#    api_key=api_key,\n",
    "#    azure_endpoint=azure_endpoint,\n",
    "#    api_version=\"2024-08-01-preview\",\n",
    "#)\n",
    "\n",
    "# Optionally, set as default for LlamaIndex\n",
    "#Settings.llm = llm\n",
    "\n",
    "#Set up the embedding model for RAG using OpenAI\n",
    "Settings.embed_model = OpenAIEmbedding(\n",
    "    model=\"text-embedding-3-small\",    # or \"text-embedding-3-large\"\n",
    "    api_key=api_key                    # your OpenAI API key (sk-...)\n",
    ")\n",
    "\n",
    "#Set up the embedding model for RAG using Azure OpenAI\n",
    "#Settings.embed_model= AzureOpenAIEmbedding(\n",
    "#    model=\"text-embedding-3-large\",\n",
    "#    deployment_name=\"text-embedding-3-large\",\n",
    "#    api_key=api_key,\n",
    "#    azure_endpoint=azure_endpoint,\n",
    "#    api_version=\"2023-05-15\",\n",
    "#)"
   ]
  },
  {
   "cell_type": "markdown",
   "id": "4abd3890-1782-4e43-a200-d17a915bfd3b",
   "metadata": {},
   "source": [
    "### 02.03. Set up wikipedia tools"
   ]
  },
  {
   "cell_type": "code",
   "execution_count": 2,
   "id": "2dfe8385-3acf-4f5b-b179-719b51052ea4",
   "metadata": {},
   "outputs": [
    {
     "name": "stdout",
     "output_type": "stream",
     "text": [
      "--------\n",
      " search_data \n",
      "        Use this tool to load data from the following function. It must then be read from\n",
      "        the corresponding read_search_data function.\n",
      "\n",
      "        search_data(query: str, lang: str = 'en') -> str\n",
      "\n",
      "        Search Wikipedia for a page related to the given query.\n",
      "        Use this tool when `load_data` returns no results.\n",
      "\n",
      "        Args:\n",
      "            query (str): the string to search for\n",
      "        \n",
      "    \n",
      "--------\n",
      " read_search_data \n",
      "        Once data has been loaded from search_data it can then be read using a natural\n",
      "        language query from this function.\n",
      "\n",
      "        You are required to pass the natural language query argument when calling this endpoint\n",
      "\n",
      "        Args:\n",
      "            query (str): The natural language query used to retreieve information from the index\n",
      "    \n"
     ]
    }
   ],
   "source": [
    "from llama_index.tools.wikipedia import WikipediaToolSpec\n",
    "from llama_index.core.tools.tool_spec.load_and_search import (\n",
    "    LoadAndSearchToolSpec,\n",
    ")\n",
    "\n",
    "# Get list of wikipedia tools\n",
    "wiki_spec = WikipediaToolSpec()\n",
    "tool = wiki_spec.to_tool_list()[1]\n",
    "wiki_tools = LoadAndSearchToolSpec.from_defaults(tool).to_tool_list()\n",
    "\n",
    "#Review the list of tools\n",
    "for tool in wiki_tools:\n",
    "    print( \"--------\\n\",tool.metadata.name, tool.metadata.description)"
   ]
  },
  {
   "cell_type": "markdown",
   "id": "3d24df32-c08f-4d71-b8c1-5dfa15664c47",
   "metadata": {},
   "source": [
    "### 02.04. Set up RAG for medications"
   ]
  },
  {
   "cell_type": "code",
   "execution_count": 3,
   "id": "f4a900c9-4a09-4ab1-8c1b-441796c0d1e2",
   "metadata": {},
   "outputs": [],
   "source": [
    "#from llama_index.core import SimpleDirectoryReader\n",
    "#from llama_index.readers.file import CSVReader\n",
    "from llama_index.core.node_parser import SentenceSplitter\n",
    "from llama_index.core import  VectorStoreIndex\n",
    "from llama_index.core.tools import QueryEngineTool\n",
    "from llama_index.readers.json import JSONReader\n",
    "\n",
    "medication_docs = JSONReader().load_data(\n",
    "        input_file=\"datasets/Medications and dosages.json\"\n",
    ")\n",
    "#Split the document\n",
    "splitter=SentenceSplitter(chunk_size=200)\n",
    "medication_nodes=splitter.get_nodes_from_documents(medication_docs)\n",
    "\n",
    "#Index the document in memory\n",
    "medication_index=VectorStoreIndex(medication_nodes)\n",
    "\n",
    "#Create a query engine tool based on the CSV file\n",
    "medication_query_engine = medication_index.as_query_engine()\n",
    "medication_tool = QueryEngineTool.from_defaults(\n",
    "    query_engine=medication_query_engine,\n",
    "    description=(\n",
    "        \"Provides list of popular medications, diseases they are used to treat for and recommended dosages\"\n",
    "    ),\n",
    ")"
   ]
  },
  {
   "cell_type": "markdown",
   "id": "e4905078",
   "metadata": {},
   "source": [
    "### 02.05. Set up & execute the Healthcare Agent"
   ]
  },
  {
   "cell_type": "code",
   "execution_count": 4,
   "id": "4dfa748c-76a4-4f43-81d5-e81b22823658",
   "metadata": {},
   "outputs": [],
   "source": [
    "from llama_index.core.agent.react.base import ReActAgent\n",
    "#Consolidate list of tools\n",
    "healthcare_tools =wiki_tools + [medication_tool]\n",
    "\n",
    "context = \"\"\"\n",
    "You are an healthcare assistant who can answer questions regarding \n",
    "diseases, their symptoms and medications for them.\n",
    "\n",
    "Use the wikipedia tools to answer questions about symptoms and possible \n",
    "diseases associated with those symptoms. \n",
    "Use the medication tool to find list of medications and dosages for a given\n",
    "disease.\n",
    "\n",
    "Use only the tools provided to answer questions and NOT your own memory.\n",
    "\n",
    "\"\"\"\n",
    "\n",
    "#Create a pre-built ReAct agent\n",
    "healthcare_agent = ReActAgent.from_tools(\n",
    "                healthcare_tools,\n",
    "                llm=Settings.llm,\n",
    "                context=context,\n",
    "                verbose=True #Set verbose for detailed logs\n",
    "                )\n"
   ]
  },
  {
   "cell_type": "code",
   "execution_count": null,
   "id": "be839a2c-a5a1-4a4d-a855-3b1ffd0601a4",
   "metadata": {},
   "outputs": [],
   "source": [
    "response=healthcare_agent.chat(\"Which medication should i take for arthritis?\")\n",
    "print(\"*******\\n Response : \",response.response)"
   ]
  },
  {
   "cell_type": "code",
   "execution_count": 5,
   "id": "e40ced82-9025-412a-92fc-e4f9e520b5de",
   "metadata": {},
   "outputs": [
    {
     "name": "stdout",
     "output_type": "stream",
     "text": [
      "> Running step f02bae78-c83d-4215-9f0c-c864c4584e62. Step input: Which medication should i take for diabetes? Explain why, and give short info about medication.\n",
      "\u001b[1;3;38;5;200mThought: The user is asking about medication for diabetes. I can use the query_engine_tool to provide a list of medications and dosages for diabetes.\n",
      "Action: query_engine_tool\n",
      "Action Input: {'input': 'diabetes'}\n",
      "\u001b[0m\u001b[1;3;34mObservation: Lantus (Insulin) is used for diabetes.\n",
      "\u001b[0m> Running step f1b7a112-60b8-4031-9b0d-0d6853effe28. Step input: None\n",
      "\u001b[1;3;38;5;200mThought: I have found information about Lantus (Insulin) being used for diabetes. I can provide a short summary about Lantus and its usage for diabetes.\n",
      "Action: search_data\n",
      "Action Input: {'query': 'Lantus'}\n",
      "\u001b[0m\u001b[1;3;34mObservation: Content loaded! You can now search the information using read_search_data\n",
      "\u001b[0m> Running step 5f1f26f4-622e-449e-8e58-771bcff76ac1. Step input: None\n",
      "\u001b[1;3;38;5;200mThought: (Implicit) I can answer without any more tools!\n",
      "Answer: Action: read_search_data\n",
      "Action Input: {\"query\": \"What is Lantus (Insulin) and how is it used for diabetes?\"}\n",
      "\u001b[0m*******\n",
      " Response :  Action: read_search_data\n",
      "Action Input: {\"query\": \"What is Lantus (Insulin) and how is it used for diabetes?\"}\n"
     ]
    }
   ],
   "source": [
    "response=healthcare_agent.chat(\"Which medication should i take for diabetes? Explain why, and give short info about medication.\")\n",
    "print(\"*******\\n Response : \",response.response)"
   ]
  }
 ],
 "metadata": {
  "kernelspec": {
   "display_name": "Python 3",
   "language": "python",
   "name": "python3"
  },
  "language_info": {
   "codemirror_mode": {
    "name": "ipython",
    "version": 3
   },
   "file_extension": ".py",
   "mimetype": "text/x-python",
   "name": "python",
   "nbconvert_exporter": "python",
   "pygments_lexer": "ipython3",
   "version": "3.10.12"
  }
 },
 "nbformat": 4,
 "nbformat_minor": 5
}
