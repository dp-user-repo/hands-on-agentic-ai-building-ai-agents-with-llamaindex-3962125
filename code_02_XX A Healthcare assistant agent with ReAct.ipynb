{
 "cells": [
  {
   "cell_type": "markdown",
   "id": "d7bfea18",
   "metadata": {},
   "source": [
    "### Set up LLM and Embedding"
   ]
  },
  {
   "cell_type": "code",
   "execution_count": 7,
   "id": "d157a7ad-1968-4149-b713-c5e38a6458a4",
   "metadata": {},
   "outputs": [],
   "source": [
    "#Using AzureOpenAI as LLM. Other LLM options are available in LlamaIndex\n",
    "#from llama_index.llms.azure_openai import AzureOpenAI\n",
    "\n",
    "# Using OpenAI as LLM with LlamaIndex\n",
    "from llama_index.llms.openai import OpenAI\n",
    "\n",
    "from llama_index.embeddings.openai import OpenAIEmbedding\n",
    "#from llama_index.embeddings.azure_openai import AzureOpenAIEmbedding\n",
    "\n",
    "from llama_index.core import Settings\n",
    "from dotenv import load_dotenv\n",
    "load_dotenv()\n",
    "import os\n",
    "import nest_asyncio\n",
    "\n",
    "#Used by LlamaIndex\n",
    "nest_asyncio.apply()\n",
    "\n",
    "#API key for OpenAi or AzureOpenAI. Replace with your own key\n",
    "api_key = os.environ.get(\"OPENAI_API_KEY\")\n",
    "\n",
    "#Azure Endpoint URL. Replace with your own URL\n",
    "#azure_endpoint = \"https://agentic-ai-course-kumaran.openai.azure.com/\"\n",
    "\n",
    "#Note : Function calling support only available in GPT-4+ (maybe also in GPT-3.5 Turbo)\n",
    "# Create the LLM object for OpenAI\n",
    "llm = OpenAI(\n",
    "    model=\"gpt-4o\",  # or \"gpt-4-turbo\", \"gpt-3.5-turbo-16k\", etc.\n",
    "    api_key=api_key\n",
    ")\n",
    "\n",
    "#Create the LLM object for Azure OpenAI\n",
    "#llm=AzureOpenAI(\n",
    "#    model=\"gpt-4o\",\n",
    "#    deployment_name=\"gpt-4o\",\n",
    "#    api_key=api_key,\n",
    "#    azure_endpoint=azure_endpoint,\n",
    "#    api_version=\"2024-08-01-preview\",\n",
    "#)\n",
    "\n",
    "# Optionally, set as default for LlamaIndex\n",
    "#Settings.llm = llm\n",
    "\n",
    "#Set up the embedding model for RAG using OpenAI\n",
    "Settings.embed_model = OpenAIEmbedding(\n",
    "    model=\"text-embedding-3-large\",    # or \"text-embedding-3-large\"\n",
    "    api_key=api_key                    # your OpenAI API key (sk-...)\n",
    ")\n",
    "\n",
    "#Set up the embedding model for RAG using Azure OpenAI\n",
    "#Settings.embed_model= AzureOpenAIEmbedding(\n",
    "#    model=\"text-embedding-3-large\",\n",
    "#    deployment_name=\"text-embedding-3-large\",\n",
    "#    api_key=api_key,\n",
    "#    azure_endpoint=azure_endpoint,\n",
    "#    api_version=\"2023-05-15\",\n",
    "#)"
   ]
  },
  {
   "cell_type": "markdown",
   "id": "4abd3890-1782-4e43-a200-d17a915bfd3b",
   "metadata": {},
   "source": [
    "### 02.03. Set up wikipedia tools"
   ]
  },
  {
   "cell_type": "code",
   "execution_count": 8,
   "id": "2dfe8385-3acf-4f5b-b179-719b51052ea4",
   "metadata": {},
   "outputs": [
    {
     "name": "stdout",
     "output_type": "stream",
     "text": [
      "--------\n",
      " search_data \n",
      "        Use this tool to load data from the following function. It must then be read from\n",
      "        the corresponding read_search_data function.\n",
      "\n",
      "        search_data(query: str, lang: str = 'en') -> str\n",
      "\n",
      "        Search Wikipedia for a page related to the given query.\n",
      "        Use this tool when `load_data` returns no results.\n",
      "\n",
      "        Args:\n",
      "            query (str): the string to search for\n",
      "        \n",
      "    \n",
      "--------\n",
      " read_search_data \n",
      "        Once data has been loaded from search_data it can then be read using a natural\n",
      "        language query from this function.\n",
      "\n",
      "        You are required to pass the natural language query argument when calling this endpoint\n",
      "\n",
      "        Args:\n",
      "            query (str): The natural language query used to retreieve information from the index\n",
      "    \n"
     ]
    }
   ],
   "source": [
    "from llama_index.tools.wikipedia import WikipediaToolSpec\n",
    "from llama_index.core.tools.tool_spec.load_and_search import (\n",
    "    LoadAndSearchToolSpec,\n",
    ")\n",
    "\n",
    "# Get list of wikipedia tools\n",
    "wiki_spec = WikipediaToolSpec()\n",
    "tool = wiki_spec.to_tool_list()[1]\n",
    "wiki_tools = LoadAndSearchToolSpec.from_defaults(tool).to_tool_list()\n",
    "\n",
    "#Review the list of tools\n",
    "for tool in wiki_tools:\n",
    "    print( \"--------\\n\",tool.metadata.name, tool.metadata.description)"
   ]
  },
  {
   "cell_type": "markdown",
   "id": "3d24df32-c08f-4d71-b8c1-5dfa15664c47",
   "metadata": {},
   "source": [
    "### 02.04. Set up RAG for medications"
   ]
  },
  {
   "cell_type": "code",
   "execution_count": 9,
   "id": "f4a900c9-4a09-4ab1-8c1b-441796c0d1e2",
   "metadata": {},
   "outputs": [],
   "source": [
    "#from llama_index.core import SimpleDirectoryReader\n",
    "#from llama_index.readers.file import CSVReader\n",
    "from llama_index.core.node_parser import SentenceSplitter\n",
    "from llama_index.core import  VectorStoreIndex\n",
    "from llama_index.core.tools import QueryEngineTool\n",
    "from llama_index.readers.json import JSONReader\n",
    "\n",
    "medication_docs = JSONReader().load_data(\n",
    "        input_file=\"datasets/Medications and dosages.json\"\n",
    ")\n",
    "#Split the document\n",
    "splitter=SentenceSplitter(chunk_size=200)\n",
    "medication_nodes=splitter.get_nodes_from_documents(medication_docs)\n",
    "\n",
    "#Index the document in memory\n",
    "medication_index=VectorStoreIndex(medication_nodes)\n",
    "\n",
    "#Create a query engine tool based on the CSV file\n",
    "medication_query_engine = medication_index.as_query_engine()\n",
    "medication_tool = QueryEngineTool.from_defaults(\n",
    "    query_engine=medication_query_engine,\n",
    "    description=(\n",
    "        \"Provides list of popular medications, diseases they are used to treat for and recommended dosages\"\n",
    "    ),\n",
    ")"
   ]
  },
  {
   "cell_type": "markdown",
   "id": "e4905078",
   "metadata": {},
   "source": [
    "### 02.05. Set up & execute the Healthcare Agent"
   ]
  },
  {
   "cell_type": "code",
   "execution_count": 13,
   "id": "4dfa748c-76a4-4f43-81d5-e81b22823658",
   "metadata": {},
   "outputs": [],
   "source": [
    "from llama_index.core.agent.react.base import ReActAgent\n",
    "#Consolidate list of tools\n",
    "healthcare_tools =wiki_tools + [medication_tool]\n",
    "\n",
    "context = \"\"\"\n",
    "You are a healthcare assistant who can answer questions regarding \n",
    "diseases, their symptoms and medications for them.\n",
    "\n",
    "Use the wikipedia tools read_search_data and search_data to answer questions about symptoms and possible \n",
    "diseases associated with those symptoms. \n",
    "Use the medication tool to find list of medications and dosages for a given\n",
    "disease.\n",
    "\n",
    "Use only the tools provided to answer questions and NOT your own memory.\n",
    "\n",
    "\"\"\"\n",
    "\n",
    "#Create a pre-built ReAct agent\n",
    "healthcare_agent = ReActAgent.from_tools(\n",
    "                healthcare_tools,\n",
    "                llm=Settings.llm,\n",
    "                context=context,\n",
    "                verbose=True #Set verbose for detailed logs\n",
    "                )\n"
   ]
  },
  {
   "cell_type": "code",
   "execution_count": 14,
   "id": "be839a2c-a5a1-4a4d-a855-3b1ffd0601a4",
   "metadata": {},
   "outputs": [
    {
     "name": "stdout",
     "output_type": "stream",
     "text": [
      "> Running step 2732d9a4-484c-4e8b-b76d-d5d35a2539e8. Step input: Which medication should i take for arthritis?\n",
      "\u001b[1;3;38;5;200mThought: The user is asking about medications for arthritis. I can use the query_engine_tool to provide a list of medications for arthritis.\n",
      "Action: query_engine_tool\n",
      "Action Input: {'input': 'arthritis'}\n",
      "\u001b[0m\u001b[1;3;34mObservation: Methotrexate is used for arthritis.\n",
      "\u001b[0m> Running step 4ed21736-042e-4283-a0db-0e6c3d2583b6. Step input: None\n",
      "\u001b[1;3;38;5;200mThought: I have found information about Methotrexate being used for arthritis. Now, I need to provide the user with more details about this medication.\n",
      "Action: query_engine_tool\n",
      "Action Input: {'input': 'Methotrexate'}\n",
      "\u001b[0m\u001b[1;3;34mObservation: The typical dosage for Methotrexate is 500-2000 mg daily, divided into doses. It is used for treating rheumatoid arthritis and cancer.\n",
      "\u001b[0m> Running step 9608c150-e53f-4347-9154-c0bbcbb6d03d. Step input: None\n",
      "\u001b[1;3;38;5;200mThought: I have gathered information about Methotrexate, including its typical dosage and the conditions it is used to treat. Now, I can provide a comprehensive answer to the user's question.\n",
      "Answer: Methotrexate is a medication commonly used to treat rheumatoid arthritis and cancer. The typical dosage ranges from 500 to 2000 mg daily, divided into doses.\n",
      "\u001b[0m*******\n",
      " Response :  Methotrexate is a medication commonly used to treat rheumatoid arthritis and cancer. The typical dosage ranges from 500 to 2000 mg daily, divided into doses.\n"
     ]
    }
   ],
   "source": [
    "response=healthcare_agent.chat(\"Which medication should i take for arthritis?\")\n",
    "print(\"*******\\n Response : \",response.response)"
   ]
  },
  {
   "cell_type": "code",
   "execution_count": 17,
   "id": "e40ced82-9025-412a-92fc-e4f9e520b5de",
   "metadata": {},
   "outputs": [
    {
     "name": "stdout",
     "output_type": "stream",
     "text": [
      "> Running step 3683ae51-f86b-4ce8-a8d0-c89c30e63b44. Step input: Which medication should i take for hyperthyroidism?\n",
      "\u001b[1;3;38;5;200mThought: The user is asking about medication for hyperthyroidism, which is a condition where the thyroid gland produces too much thyroid hormone. I can use the query engine tool to provide a list of medications commonly used to treat hyperthyroidism.\n",
      "Action: query_engine_tool\n",
      "Action Input: {'input': 'medications for hyperthyroidism'}\n",
      "\u001b[0m\u001b[1;3;34mObservation: Levothyroxine\n",
      "\u001b[0m> Running step 8312dc2b-5e5a-4a80-bdba-780b2818af83. Step input: None\n",
      "\u001b[1;3;38;5;200mThought: The user has mentioned \"Levothyroxine\" as a medication for hyperthyroidism. However, Levothyroxine is typically used to treat hypothyroidism, not hyperthyroidism. I need to provide the correct information regarding medications for hyperthyroidism.\n",
      "Action: search_data\n",
      "Action Input: {'query': 'medications for hyperthyroidism'}\n",
      "\u001b[0m\u001b[1;3;34mObservation: Content loaded! You can now search the information using read_search_data\n",
      "\u001b[0m> Running step f4773ad1-f0e9-4e76-ad07-722174104b1d. Step input: None\n",
      "\u001b[1;3;38;5;200mThought: (Implicit) I can answer without any more tools!\n",
      "Answer: Action: read_search_data\n",
      "Action Input: {\"query\": \"medications for hyperthyroidism\"}\n",
      "\u001b[0m*******\n",
      " Response :  Action: read_search_data\n",
      "Action Input: {\"query\": \"medications for hyperthyroidism\"}\n"
     ]
    }
   ],
   "source": [
    "response=healthcare_agent.chat(\"Which medication should i take for hyperthyroidism?\")\n",
    "print(\"*******\\n Response : \",response.response)"
   ]
  }
 ],
 "metadata": {
  "kernelspec": {
   "display_name": "Python 3",
   "language": "python",
   "name": "python3"
  },
  "language_info": {
   "codemirror_mode": {
    "name": "ipython",
    "version": 3
   },
   "file_extension": ".py",
   "mimetype": "text/x-python",
   "name": "python",
   "nbconvert_exporter": "python",
   "pygments_lexer": "ipython3",
   "version": "3.10.12"
  }
 },
 "nbformat": 4,
 "nbformat_minor": 5
}
